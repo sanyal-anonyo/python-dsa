{
 "cells": [
  {
   "cell_type": "markdown",
   "metadata": {
    "application/vnd.databricks.v1+cell": {
     "cellMetadata": {},
     "inputWidgets": {},
     "nuid": "6b7ceb51-4ec7-4a1f-afbb-07a0efe854b7",
     "showTitle": false,
     "tableResultSettingsMap": {},
     "title": ""
    }
   },
   "source": [
    "# Creativity"
   ]
  },
  {
   "cell_type": "markdown",
   "metadata": {
    "application/vnd.databricks.v1+cell": {
     "cellMetadata": {},
     "inputWidgets": {},
     "nuid": "5bc80dbd-ab87-495e-8416-899f61e53dd6",
     "showTitle": false,
     "tableResultSettingsMap": {},
     "title": ""
    }
   },
   "source": [
    "\n",
    "**C-1.13** Write a pseudo-code description of a function that reverses a list of n integers, so that the numbers are listed in the opposite order than they were before, and compare this method to an equivalent Python function for doing the same thing"
   ]
  },
  {
   "cell_type": "code",
   "execution_count": 0,
   "metadata": {
    "application/vnd.databricks.v1+cell": {
     "cellMetadata": {
      "byteLimit": 2048000,
      "rowLimit": 10000
     },
     "inputWidgets": {},
     "nuid": "77fadfd1-9843-4245-92dc-2015b3ed7692",
     "showTitle": false,
     "tableResultSettingsMap": {},
     "title": ""
    }
   },
   "outputs": [],
   "source": [
    "def reverse_a_list(list):\n",
    "    for i in range(len(list)-1,-1,-1):\n",
    "        print(list[i], end=\" \")\n",
    "\n",
    "reverse_a_list([1,2,3,4,5])"
   ]
  },
  {
   "cell_type": "code",
   "execution_count": 0,
   "metadata": {
    "application/vnd.databricks.v1+cell": {
     "cellMetadata": {
      "byteLimit": 2048000,
      "rowLimit": 10000
     },
     "inputWidgets": {},
     "nuid": "895890a6-e57d-499a-bfcd-a0d9ac286839",
     "showTitle": false,
     "tableResultSettingsMap": {},
     "title": ""
    }
   },
   "outputs": [],
   "source": [
    "def reverse_a_list_real(data):\n",
    "    for i in range(0,int(len(data)/2)):\n",
    "        data[i], data[len(data)-i-1] = data[len(data)-i-1], data[i]\n",
    "    return data\n",
    "reverse_a_list_real([1,2,3,4,5])"
   ]
  },
  {
   "cell_type": "markdown",
   "metadata": {
    "application/vnd.databricks.v1+cell": {
     "cellMetadata": {},
     "inputWidgets": {},
     "nuid": "b1ae10bc-61a0-4f84-8149-4e131a4d7db7",
     "showTitle": false,
     "tableResultSettingsMap": {},
     "title": ""
    }
   },
   "source": [
    "\n",
    "**C-1.14** Write a short Python function that takes a sequence of integer values and determines if there is a distinct pair of numbers in the sequence whose product is odd."
   ]
  },
  {
   "cell_type": "code",
   "execution_count": 0,
   "metadata": {
    "application/vnd.databricks.v1+cell": {
     "cellMetadata": {
      "byteLimit": 2048000,
      "rowLimit": 10000
     },
     "inputWidgets": {},
     "nuid": "70fb547b-b2e0-415e-be12-832e3e81748e",
     "showTitle": false,
     "tableResultSettingsMap": {},
     "title": ""
    }
   },
   "outputs": [],
   "source": [
    "def odd_product(data):\n",
    "    odd=0\n",
    "    for i in data:\n",
    "        if i & 1 == 1:\n",
    "            odd=odd+1\n",
    "    if odd>1:\n",
    "        return True\n",
    "    else:\n",
    "        return False\n",
    "    \n",
    "print(odd_product([1,2,3,4,6]))\n",
    "print(odd_product([1,2,4,4,10]))"
   ]
  },
  {
   "cell_type": "markdown",
   "metadata": {
    "application/vnd.databricks.v1+cell": {
     "cellMetadata": {},
     "inputWidgets": {},
     "nuid": "e0e9caa9-ed25-416e-9b80-a744027941df",
     "showTitle": false,
     "tableResultSettingsMap": {},
     "title": ""
    }
   },
   "source": [
    "\n",
    "**C-1.15** Write a Python function that takes a sequence of numbers and determines if all the numbers are different from each other (that is, they are distinct)"
   ]
  },
  {
   "cell_type": "code",
   "execution_count": 0,
   "metadata": {
    "application/vnd.databricks.v1+cell": {
     "cellMetadata": {
      "byteLimit": 2048000,
      "rowLimit": 10000
     },
     "inputWidgets": {},
     "nuid": "cfb5384b-2490-4050-8b03-2d4b15e72669",
     "showTitle": false,
     "tableResultSettingsMap": {},
     "title": ""
    }
   },
   "outputs": [],
   "source": [
    "def is_distinct_list(data):\n",
    "    for i in data:\n",
    "        if data.count(i)>1:\n",
    "            return False\n",
    "    return True\n",
    "\n",
    "print(is_distinct_list([1,2,3,4,5]))\n",
    "print(is_distinct_list([1,2,3,4,5,1]))"
   ]
  },
  {
   "cell_type": "markdown",
   "metadata": {
    "application/vnd.databricks.v1+cell": {
     "cellMetadata": {},
     "inputWidgets": {},
     "nuid": "4c132bb0-f0bf-457a-8944-66de8d9023a0",
     "showTitle": false,
     "tableResultSettingsMap": {},
     "title": ""
    }
   },
   "source": [
    "\n",
    "**C1.16** In our implementation of the scale function (page 25), the body of the loop executes the command data[j]* = factor. We have discussed that numeric types are immutable, and that use of the = operator in this context causes the creation of a new instance (not the mutation of an existing instance). How is it still possible, then, that our implementation of scale changes the actual parameter sent by the caller?\n",
    "\n",
    "```python \n",
    "def scale(data, factor):\n",
    "  for j in range(len(data)):\n",
    "   data[j] *= factor\n",
    "```\n"
   ]
  },
  {
   "cell_type": "markdown",
   "metadata": {
    "application/vnd.databricks.v1+cell": {
     "cellMetadata": {},
     "inputWidgets": {},
     "nuid": "526f82d9-66d5-4e42-bca1-3c20c49f5733",
     "showTitle": false,
     "tableResultSettingsMap": {},
     "title": ""
    }
   },
   "source": [
    "\n",
    "Answer — this is a subtle but fundamental point about **mutation**, **immutability**, and **references** in Python.\n",
    "\n",
    "Let’s restate the code in readable form:\n",
    "\n",
    "```python\n",
    "def scale(data, factor):\n",
    "    for j in range(len(data)):\n",
    "        data[j] *= factor\n",
    "```\n",
    "\n",
    "and say the caller does this:\n",
    "\n",
    "```python\n",
    "nums = [1, 2, 3]\n",
    "scale(nums, 2)\n",
    "print(nums)   # → [2, 4, 6]\n",
    "```\n",
    "\n",
    "Even though integers are immutable, the list `nums` *is* modified in place.\n",
    "Let’s break down why that happens.\n",
    "\n",
    "---\n",
    "\n",
    "### Step 1: The list itself (`data`) is mutable\n",
    "\n",
    "When you call `scale(nums, 2)`, Python passes a **reference** to the same list object into the parameter `data`.\n",
    "So inside the function:\n",
    "\n",
    "* `data` and `nums` refer to **the same list object** in memory.\n",
    "\n",
    "---\n",
    "\n",
    "### Step 2: The statement `data[j] *= factor`\n",
    "\n",
    "This line is shorthand for:\n",
    "\n",
    "```python\n",
    "data[j] = data[j] * factor\n",
    "```\n",
    "\n",
    "That means:\n",
    "\n",
    "1. Python takes the element `data[j]` (an integer, which is immutable).\n",
    "2. It computes a new integer object as the result of `data[j] * factor`.\n",
    "3. It assigns that new integer **back into the list slot `j`**.\n",
    "\n",
    "---\n",
    "\n",
    "### Step 3: What actually mutates\n",
    "\n",
    "* The **list** is being mutated — because you are replacing one of its elements.\n",
    "* The **integer elements** themselves are not mutated — since integers can’t change in place.\n",
    "\n",
    "In other words:\n",
    "\n",
    "* The *list object* changes (the slot at index `j` now points to a new integer).\n",
    "* The *integer objects* themselves do not change.\n",
    "\n",
    "---\n",
    "\n",
    "### Step 4: Why the caller sees the change\n",
    "\n",
    "Because the list `nums` in the caller and the list `data` inside the function are actually the **same object**, any mutation to the list’s contents (like assigning to an index) is visible outside the function.\n",
    "\n",
    "---\n",
    "\n",
    "✅ **Summary**\n",
    "\n",
    "| Concept                      | Mutable?           | Changed by `data[j] *= factor`?                         |\n",
    "| ---------------------------- | ------------------ | ------------------------------------------------------- |\n",
    "| The list object (`data`)     | ✅ Yes              | The element slot is replaced                            |\n",
    "| The integers inside the list | ❌ No               | New integers are created                                |\n",
    "| The caller’s reference       | ✅ Yes (indirectly) | It points to the same list, so it sees the new elements |\n",
    "\n",
    "So even though numeric types are immutable, the **list** that contains them is mutable, and assigning new values into its slots *does* change the actual parameter sent by the caller.\n"
   ]
  }
 ],
 "metadata": {
  "application/vnd.databricks.v1+notebook": {
   "computePreferences": null,
   "dashboards": [],
   "environmentMetadata": {
    "base_environment": "",
    "environment_version": "4"
   },
   "inputWidgetPreferences": null,
   "language": "python",
   "notebookMetadata": {
    "pythonIndentUnit": 4
   },
   "notebookName": "Chapter 1. Python Primer - Creativity",
   "widgets": {}
  },
  "language_info": {
   "name": "python"
  }
 },
 "nbformat": 4,
 "nbformat_minor": 0
}
