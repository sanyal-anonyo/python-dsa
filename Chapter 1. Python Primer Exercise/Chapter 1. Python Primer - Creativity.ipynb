{
 "cells": [
  {
   "cell_type": "markdown",
   "metadata": {
    "application/vnd.databricks.v1+cell": {
     "cellMetadata": {},
     "inputWidgets": {},
     "nuid": "6b7ceb51-4ec7-4a1f-afbb-07a0efe854b7",
     "showTitle": false,
     "tableResultSettingsMap": {},
     "title": ""
    }
   },
   "source": [
    "# Creativity"
   ]
  },
  {
   "cell_type": "markdown",
   "metadata": {
    "application/vnd.databricks.v1+cell": {
     "cellMetadata": {},
     "inputWidgets": {},
     "nuid": "5bc80dbd-ab87-495e-8416-899f61e53dd6",
     "showTitle": false,
     "tableResultSettingsMap": {},
     "title": ""
    }
   },
   "source": [
    "\n",
    "**C-1.13** Write a pseudo-code description of a function that reverses a list of n integers, so that the numbers are listed in the opposite order than they were before, and compare this method to an equivalent Python function for doing the same thing"
   ]
  },
  {
   "cell_type": "code",
   "execution_count": 0,
   "metadata": {
    "application/vnd.databricks.v1+cell": {
     "cellMetadata": {
      "byteLimit": 2048000,
      "rowLimit": 10000
     },
     "inputWidgets": {},
     "nuid": "77fadfd1-9843-4245-92dc-2015b3ed7692",
     "showTitle": false,
     "tableResultSettingsMap": {},
     "title": ""
    }
   },
   "outputs": [],
   "source": [
    "def reverse_a_list(list):\n",
    "    for i in range(len(list)-1,-1,-1):\n",
    "        print(list[i], end=\" \")\n",
    "\n",
    "reverse_a_list([1,2,3,4,5])"
   ]
  },
  {
   "cell_type": "code",
   "execution_count": 0,
   "metadata": {
    "application/vnd.databricks.v1+cell": {
     "cellMetadata": {
      "byteLimit": 2048000,
      "rowLimit": 10000
     },
     "inputWidgets": {},
     "nuid": "895890a6-e57d-499a-bfcd-a0d9ac286839",
     "showTitle": false,
     "tableResultSettingsMap": {},
     "title": ""
    }
   },
   "outputs": [],
   "source": [
    "def reverse_a_list_real(data):\n",
    "    for i in range(0,int(len(data)/2)):\n",
    "        data[i], data[len(data)-i-1] = data[len(data)-i-1], data[i]\n",
    "    return data\n",
    "reverse_a_list_real([1,2,3,4,5])"
   ]
  },
  {
   "cell_type": "markdown",
   "metadata": {
    "application/vnd.databricks.v1+cell": {
     "cellMetadata": {},
     "inputWidgets": {},
     "nuid": "b1ae10bc-61a0-4f84-8149-4e131a4d7db7",
     "showTitle": false,
     "tableResultSettingsMap": {},
     "title": ""
    }
   },
   "source": [
    "\n",
    "**C-1.14** Write a short Python function that takes a sequence of integer values and determines if there is a distinct pair of numbers in the sequence whose product is odd."
   ]
  },
  {
   "cell_type": "code",
   "execution_count": 0,
   "metadata": {
    "application/vnd.databricks.v1+cell": {
     "cellMetadata": {
      "byteLimit": 2048000,
      "rowLimit": 10000
     },
     "inputWidgets": {},
     "nuid": "70fb547b-b2e0-415e-be12-832e3e81748e",
     "showTitle": false,
     "tableResultSettingsMap": {},
     "title": ""
    }
   },
   "outputs": [],
   "source": [
    "def odd_product(data):\n",
    "    odd=0\n",
    "    for i in data:\n",
    "        if i & 1 == 1:\n",
    "            odd=odd+1\n",
    "    if odd>1:\n",
    "        return True\n",
    "    else:\n",
    "        return False\n",
    "    \n",
    "print(odd_product([1,2,3,4,6]))\n",
    "print(odd_product([1,2,4,4,10]))"
   ]
  },
  {
   "cell_type": "markdown",
   "metadata": {
    "application/vnd.databricks.v1+cell": {
     "cellMetadata": {},
     "inputWidgets": {},
     "nuid": "e0e9caa9-ed25-416e-9b80-a744027941df",
     "showTitle": false,
     "tableResultSettingsMap": {},
     "title": ""
    }
   },
   "source": [
    "\n",
    "**C-1.15** Write a Python function that takes a sequence of numbers and determines if all the numbers are different from each other (that is, they are distinct)"
   ]
  },
  {
   "cell_type": "code",
   "execution_count": 0,
   "metadata": {
    "application/vnd.databricks.v1+cell": {
     "cellMetadata": {
      "byteLimit": 2048000,
      "rowLimit": 10000
     },
     "inputWidgets": {},
     "nuid": "cfb5384b-2490-4050-8b03-2d4b15e72669",
     "showTitle": false,
     "tableResultSettingsMap": {},
     "title": ""
    }
   },
   "outputs": [],
   "source": [
    "def is_distinct_list(data):\n",
    "    for i in data:\n",
    "        if data.count(i)>1:\n",
    "            return False\n",
    "    return True\n",
    "\n",
    "print(is_distinct_list([1,2,3,4,5]))\n",
    "print(is_distinct_list([1,2,3,4,5,1]))"
   ]
  },
  {
   "cell_type": "markdown",
   "metadata": {
    "application/vnd.databricks.v1+cell": {
     "cellMetadata": {},
     "inputWidgets": {},
     "nuid": "4c132bb0-f0bf-457a-8944-66de8d9023a0",
     "showTitle": false,
     "tableResultSettingsMap": {},
     "title": ""
    }
   },
   "source": [
    "\n",
    "**C1.16** In our implementation of the scale function (page 25), the body of the loop executes the command data[j]* = factor. We have discussed that numeric types are immutable, and that use of the = operator in this context causes the creation of a new instance (not the mutation of an existing instance). How is it still possible, then, that our implementation of scale changes the actual parameter sent by the caller?\n",
    "\n",
    "```python \n",
    "def scale(data, factor):\n",
    "  for j in range(len(data)):\n",
    "   data[j] *= factor\n",
    "```\n"
   ]
  },
  {
   "cell_type": "markdown",
   "metadata": {
    "application/vnd.databricks.v1+cell": {
     "cellMetadata": {},
     "inputWidgets": {},
     "nuid": "526f82d9-66d5-4e42-bca1-3c20c49f5733",
     "showTitle": false,
     "tableResultSettingsMap": {},
     "title": ""
    }
   },
   "source": [
    "\n",
    "Answer — this is a subtle but fundamental point about **mutation**, **immutability**, and **references** in Python.\n",
    "\n",
    "Let’s restate the code in readable form:\n",
    "\n",
    "```python\n",
    "def scale(data, factor):\n",
    "    for j in range(len(data)):\n",
    "        data[j] *= factor\n",
    "```\n",
    "\n",
    "and say the caller does this:\n",
    "\n",
    "```python\n",
    "nums = [1, 2, 3]\n",
    "scale(nums, 2)\n",
    "print(nums)   # → [2, 4, 6]\n",
    "```\n",
    "\n",
    "Even though integers are immutable, the list `nums` *is* modified in place.\n",
    "Let’s break down why that happens.\n",
    "\n",
    "---\n",
    "\n",
    "### Step 1: The list itself (`data`) is mutable\n",
    "\n",
    "When you call `scale(nums, 2)`, Python passes a **reference** to the same list object into the parameter `data`.\n",
    "So inside the function:\n",
    "\n",
    "* `data` and `nums` refer to **the same list object** in memory.\n",
    "\n",
    "---\n",
    "\n",
    "### Step 2: The statement `data[j] *= factor`\n",
    "\n",
    "This line is shorthand for:\n",
    "\n",
    "```python\n",
    "data[j] = data[j] * factor\n",
    "```\n",
    "\n",
    "That means:\n",
    "\n",
    "1. Python takes the element `data[j]` (an integer, which is immutable).\n",
    "2. It computes a new integer object as the result of `data[j] * factor`.\n",
    "3. It assigns that new integer **back into the list slot `j`**.\n",
    "\n",
    "---\n",
    "\n",
    "### Step 3: What actually mutates\n",
    "\n",
    "* The **list** is being mutated — because you are replacing one of its elements.\n",
    "* The **integer elements** themselves are not mutated — since integers can’t change in place.\n",
    "\n",
    "In other words:\n",
    "\n",
    "* The *list object* changes (the slot at index `j` now points to a new integer).\n",
    "* The *integer objects* themselves do not change.\n",
    "\n",
    "---\n",
    "\n",
    "### Step 4: Why the caller sees the change\n",
    "\n",
    "Because the list `nums` in the caller and the list `data` inside the function are actually the **same object**, any mutation to the list’s contents (like assigning to an index) is visible outside the function.\n",
    "\n",
    "---\n",
    "\n",
    "✅ **Summary**\n",
    "\n",
    "| Concept                      | Mutable?           | Changed by `data[j] *= factor`?                         |\n",
    "| ---------------------------- | ------------------ | ------------------------------------------------------- |\n",
    "| The list object (`data`)     | ✅ Yes              | The element slot is replaced                            |\n",
    "| The integers inside the list | ❌ No               | New integers are created                                |\n",
    "| The caller’s reference       | ✅ Yes (indirectly) | It points to the same list, so it sees the new elements |\n",
    "\n",
    "So even though numeric types are immutable, the **list** that contains them is mutable, and assigning new values into its slots *does* change the actual parameter sent by the caller.\n"
   ]
  },
  {
   "cell_type": "markdown",
   "metadata": {
    "application/vnd.databricks.v1+cell": {
     "cellMetadata": {},
     "inputWidgets": {},
     "nuid": "1bfad32d-5d4c-469d-a1f5-b8ab65ab4bfc",
     "showTitle": false,
     "tableResultSettingsMap": {},
     "title": ""
    }
   },
   "source": [
    "**C-1.17** Had we implemented the scale function (page 25) as follows, does it work properly?\n",
    "```python\n",
    "def scale(data, factor):\n",
    "for val in data:\n",
    "val = factor\n",
    "```\n",
    "Explain why or why not."
   ]
  },
  {
   "cell_type": "code",
   "execution_count": 0,
   "metadata": {
    "application/vnd.databricks.v1+cell": {
     "cellMetadata": {
      "byteLimit": 2048000,
      "rowLimit": 10000
     },
     "inputWidgets": {},
     "nuid": "97323ab4-0352-42c7-bea5-4ae8818f087d",
     "showTitle": false,
     "tableResultSettingsMap": {},
     "title": ""
    }
   },
   "outputs": [],
   "source": [
    "#it wont work because now we are storing the change in an integer variable which is not mutable. In the above example it was a list which is mutable\n",
    "\n",
    "def scale(data, factor):\n",
    "    for val in data:\n",
    "        val *= factor\n",
    "    return data\n",
    "\n",
    "\n",
    "scale([1,2,3],2)"
   ]
  },
  {
   "cell_type": "markdown",
   "metadata": {
    "application/vnd.databricks.v1+cell": {
     "cellMetadata": {},
     "inputWidgets": {},
     "nuid": "c88dbcf8-893f-4c0a-ac33-29996f8001f8",
     "showTitle": false,
     "tableResultSettingsMap": {},
     "title": ""
    }
   },
   "source": [
    "**C-1.18** Demonstrate how to use Python’s list comprehension syntax to produce the list [0, 2, 6, 12, 20, 30, 42, 56, 72, 90]"
   ]
  },
  {
   "cell_type": "code",
   "execution_count": 0,
   "metadata": {
    "application/vnd.databricks.v1+cell": {
     "cellMetadata": {
      "byteLimit": 2048000,
      "rowLimit": 10000
     },
     "inputWidgets": {},
     "nuid": "79cb4a77-2272-42d1-80be-00a1c1f2fbc2",
     "showTitle": false,
     "tableResultSettingsMap": {},
     "title": ""
    }
   },
   "outputs": [],
   "source": [
    "result = [n*(n+1) for n in range(0,10)]\n",
    "\n",
    "print(result)"
   ]
  },
  {
   "cell_type": "markdown",
   "metadata": {
    "application/vnd.databricks.v1+cell": {
     "cellMetadata": {},
     "inputWidgets": {},
     "nuid": "33583abc-24fb-43e8-83b9-57e6a3bc90b4",
     "showTitle": false,
     "tableResultSettingsMap": {},
     "title": ""
    }
   },
   "source": [
    "\n",
    "C-1.19 Demonstrate how to use Python’s list comprehension syntax to produce the list [ a , b , c , ..., z ], but without having to type all 26 such characters literally."
   ]
  },
  {
   "cell_type": "code",
   "execution_count": 0,
   "metadata": {
    "application/vnd.databricks.v1+cell": {
     "cellMetadata": {
      "byteLimit": 2048000,
      "rowLimit": 10000
     },
     "inputWidgets": {},
     "nuid": "69ab0f50-2b6e-4a9a-9e98-3eda314e36e5",
     "showTitle": false,
     "tableResultSettingsMap": {},
     "title": ""
    }
   },
   "outputs": [],
   "source": [
    "result = [chr(n) for n in range(97,123)]\n",
    "print(result)"
   ]
  },
  {
   "cell_type": "code",
   "execution_count": 0,
   "metadata": {
    "application/vnd.databricks.v1+cell": {
     "cellMetadata": {
      "byteLimit": 2048000,
      "rowLimit": 10000
     },
     "inputWidgets": {},
     "nuid": "58fe4a66-bd87-408b-8213-34e9e9bed27c",
     "showTitle": false,
     "tableResultSettingsMap": {},
     "title": ""
    }
   },
   "outputs": [],
   "source": [
    "result1 = [chr(c) for c in range(ord('a'),ord('z')+1)]\n",
    "print(result1)"
   ]
  },
  {
   "cell_type": "markdown",
   "metadata": {
    "application/vnd.databricks.v1+cell": {
     "cellMetadata": {},
     "inputWidgets": {},
     "nuid": "1de26a02-e9b5-4401-a800-698e05617769",
     "showTitle": false,
     "tableResultSettingsMap": {},
     "title": ""
    }
   },
   "source": [
    "\n",
    "**C-1.20** Python’s random module includes a function shuffle(data) that accepts a list of elements and randomly reorders the elements so that each possible order occurs with equal probability. The random module includes a more basic function randint(a, b) that returns a uniformly random integer from a to b (including both endpoints). Using only the randint function, implement your own version of the shuffle function."
   ]
  },
  {
   "cell_type": "code",
   "execution_count": 0,
   "metadata": {
    "application/vnd.databricks.v1+cell": {
     "cellMetadata": {
      "byteLimit": 2048000,
      "rowLimit": 10000
     },
     "inputWidgets": {},
     "nuid": "bd0246b8-e82e-475a-b345-fbb76e2cbd03",
     "showTitle": false,
     "tableResultSettingsMap": {},
     "title": ""
    }
   },
   "outputs": [],
   "source": [
    "import random\n",
    "\n",
    "data=[1,2,3,4,5]\n",
    "random.shuffle(data)\n",
    "print(data)\n",
    "print(random.randint(0,4))\n",
    "\n",
    "data1=[1,2,3,4,5]\n",
    "for i in range(len(data1)-1,0,-1):\n",
    "    j=random.randint(0,i)\n",
    "    data1[i], data1[j] = data1[j], data1[i]\n",
    "\n",
    "print(data1)\n",
    "           "
   ]
  },
  {
   "cell_type": "markdown",
   "metadata": {
    "application/vnd.databricks.v1+cell": {
     "cellMetadata": {},
     "inputWidgets": {},
     "nuid": "a42d5cfc-e8c2-471f-9a51-b50645ffec8d",
     "showTitle": false,
     "tableResultSettingsMap": {},
     "title": ""
    }
   },
   "source": [
    "**C-1.21** Write a python program that repeatedly reads lines from standard input until an EOFError is raised, and then outputs those lines in reverse order. (a user can indicate end of input by typing ctrl-D)."
   ]
  },
  {
   "cell_type": "code",
   "execution_count": 0,
   "metadata": {
    "application/vnd.databricks.v1+cell": {
     "cellMetadata": {
      "byteLimit": 2048000,
      "rowLimit": 10000
     },
     "inputWidgets": {},
     "nuid": "d680d52c-e041-41de-9092-7cae743cb9b6",
     "showTitle": false,
     "tableResultSettingsMap": {},
     "title": ""
    }
   },
   "outputs": [],
   "source": [
    "lines = []\n",
    "try:\n",
    "    while True:\n",
    "        line = input()\n",
    "        lines.append(line)\n",
    "except EOFError:\n",
    "    pass\n",
    "\n",
    "for line in reversed(lines):\n",
    "    print(line)"
   ]
  },
  {
   "cell_type": "markdown",
   "metadata": {
    "application/vnd.databricks.v1+cell": {
     "cellMetadata": {},
     "inputWidgets": {},
     "nuid": "230ff783-8364-46f5-b412-a092c0451687",
     "showTitle": false,
     "tableResultSettingsMap": {},
     "title": ""
    }
   },
   "source": [
    "**C-1.22** Write a short python program that takes two arrays a and b of length n storing **int** values, and returns the dot product of a and b. That is it returns an array c of length _n_ such that _c[i] = a[i].b[i], for i=0,....,n-1_"
   ]
  },
  {
   "cell_type": "code",
   "execution_count": 0,
   "metadata": {
    "application/vnd.databricks.v1+cell": {
     "cellMetadata": {
      "byteLimit": 2048000,
      "rowLimit": 10000
     },
     "inputWidgets": {},
     "nuid": "08934227-2ff9-4d27-9449-b41e38ac0d93",
     "showTitle": false,
     "tableResultSettingsMap": {},
     "title": ""
    }
   },
   "outputs": [],
   "source": [
    "def dot_product(a,b):\n",
    "    c = [a[i]*b[i] for i in range(0,len(a))]\n",
    "    return c\n",
    "print(dot_product([1,2,3],[4,5,6]))"
   ]
  },
  {
   "cell_type": "markdown",
   "metadata": {
    "application/vnd.databricks.v1+cell": {
     "cellMetadata": {},
     "inputWidgets": {},
     "nuid": "e8c2e3d4-1fe0-439c-bb34-cd73cf82db8e",
     "showTitle": false,
     "tableResultSettingsMap": {},
     "title": ""
    }
   },
   "source": [
    "**C-1.23**\n",
    "Give an example of Python code fragment that attempts to write an element to a list based on an index that may be out of bounds. If that index is out of bounds, the program should catch the exception that results, and print the following error message:\n",
    "\n",
    "`Don't try buffer overflow attacks in Python!`"
   ]
  },
  {
   "cell_type": "code",
   "execution_count": 0,
   "metadata": {
    "application/vnd.databricks.v1+cell": {
     "cellMetadata": {
      "byteLimit": 2048000,
      "rowLimit": 10000
     },
     "inputWidgets": {},
     "nuid": "15765d5b-3b5e-4fe7-abd5-e9216ee498a4",
     "showTitle": false,
     "tableResultSettingsMap": {},
     "title": ""
    }
   },
   "outputs": [],
   "source": [
    "list = [1,2,3]\n",
    "index=5\n",
    "num=7\n",
    "try:\n",
    "    list[index]=num\n",
    "except IndexError:\n",
    "    print(\"Don't try buffer overflow attacks in Python!\")\n",
    "\n"
   ]
  },
  {
   "cell_type": "markdown",
   "metadata": {
    "application/vnd.databricks.v1+cell": {
     "cellMetadata": {},
     "inputWidgets": {},
     "nuid": "0fed5814-c880-46f5-8d8c-5724a34b873b",
     "showTitle": false,
     "tableResultSettingsMap": {},
     "title": ""
    }
   },
   "source": [
    "**C-1.24** Write a short python function that counts the number of vowels in a given character string."
   ]
  },
  {
   "cell_type": "code",
   "execution_count": 0,
   "metadata": {
    "application/vnd.databricks.v1+cell": {
     "cellMetadata": {
      "byteLimit": 2048000,
      "rowLimit": 10000
     },
     "inputWidgets": {},
     "nuid": "00c8a83f-a280-4aa8-b375-2e885a5082a3",
     "showTitle": false,
     "tableResultSettingsMap": {},
     "title": ""
    }
   },
   "outputs": [],
   "source": [
    "def vowel_count(word):\n",
    "    vowel_count=0\n",
    "    vowels = ['a','e','i','o','u','A','E','I','O','U']\n",
    "    for i in range(len(word)):\n",
    "        if any(x == word[i] for x in vowels):\n",
    "            vowel_count = vowel_count + 1\n",
    "\n",
    "    return vowel_count\n",
    "\n",
    "word=\"Hello World!\"\n",
    "print(vowel_count(word))\n"
   ]
  }
 ],
 "metadata": {
  "application/vnd.databricks.v1+notebook": {
   "computePreferences": null,
   "dashboards": [],
   "environmentMetadata": {
    "base_environment": "",
    "environment_version": "4"
   },
   "inputWidgetPreferences": null,
   "language": "python",
   "notebookMetadata": {
    "pythonIndentUnit": 4
   },
   "notebookName": "Chapter 1. Python Primer - Creativity",
   "widgets": {}
  },
  "language_info": {
   "name": "python"
  }
 },
 "nbformat": 4,
 "nbformat_minor": 0
}
